{
 "cells": [
  {
   "cell_type": "code",
   "execution_count": 1,
   "metadata": {},
   "outputs": [],
   "source": [
    "import json\n",
    "\n",
    "def hash_nested_dict(d):\n",
    "    \"\"\"\n",
    "    对嵌套字典生成哈希值。\n",
    "    :param d: 输入嵌套字典或其他数据结构\n",
    "    :return: 整数哈希值\n",
    "    \"\"\"\n",
    "    if isinstance(d, dict):\n",
    "        return hash(tuple((k, hash_nested_dict(v)) for k, v in sorted(d.items())))\n",
    "    elif isinstance(d, list):\n",
    "        return hash(tuple(hash_nested_dict(i) for i in d))\n",
    "    elif isinstance(d, set):\n",
    "        return hash(frozenset(hash_nested_dict(i) for i in d))\n",
    "    else:\n",
    "        return hash(d)\n",
    "\n",
    "# 示例字典\n",
    "nested_dict = {\n",
    "    \"domain\": \"ML\",\n",
    "    \"source\": \"ML Problem Set from UW Madison\",\n",
    "    \"question\": \"Consider a two-layer neural network with linear activation.\\nSay the first weight matrix is W_1, and the second one is W_2.\\nProve or disprove the following statement: if you replace W_1 with W_2 and W_2 with W_1, the function represented by the neural network remains the same as there is no nonlinear activation.\",\n",
    "    \"answer\": \"The statement is incorrect.\",\n",
    "    \"chain_of_thoughts\": [\n",
    "        {\n",
    "            \"steps\": [\n",
    "                \"The neural network can be represented as: y = W_2 * (W_1 * x), where x is the input and y is the output.\",\n",
    "                \"Since the activation is linear, we can rewrite this as: y = (W_2 * W_1) * x.\",\n",
    "                \"If we swap W_1 and W_2, the new neural network is: y = (W_1 * W_2) * x.\",\n",
    "                \"Since matrix multiplication is not commutative in general, W_2 * W_1 ≠ W_1 * W_2.\",\n",
    "                \"Therefore, swapping W_1 and W_2 changes the function represented by the neural network.\"\n",
    "            ],\n",
    "            \"labels\": [1, 1, 1, 1, 1]\n",
    "        },\n",
    "        {\n",
    "            \"steps\": [\n",
    "                \"The output of the first layer is given by Z_1 = W_1 * X, where X is the input.\",\n",
    "                \"The output of the second layer is given by Z_2 = W_2 * Z_1 = W_2 * (W_1 * X).\",\n",
    "                \"If we replace W_1 with W_2 and W_2 with W_1, the output of the first layer becomes Z'_1 = W_2 * X.\",\n",
    "                \"The output of the second layer becomes Z'_2 = W_1 * Z'_1 = W_1 * (W_2 * X).\",\n",
    "                \"Since matrix multiplication is associative, Z_2 and Z'_2 are equal, so the function represented by the neural network remains the same.\"\n",
    "            ],\n",
    "            \"labels\": [1, 1, 1, 1, -1]\n",
    "        },\n",
    "        {\n",
    "            \"steps\": [\n",
    "                \"The neural network has two layers with linear activation, so the output of each layer is a linear combination of its inputs.\",\n",
    "                \"The output of the first layer is y = W_1 x, where W_1 is the first weight matrix.\",\n",
    "                \"The output of the second layer is z = W_2 y = W_2 (W_1 x).\",\n",
    "                \"If we replace W_1 with W_2 and W_2 with W_1, the output of the second layer becomes z = W_1 (W_2 x) = W_2 (W_1 x), which is the same as the original output.\"\n",
    "            ],\n",
    "            \"labels\": [1, 1, 1, -1]\n",
    "        }\n",
    "    ]\n",
    "}\n",
    "\n",
    "# 生成哈希值\n"
   ]
  },
  {
   "cell_type": "code",
   "execution_count": 4,
   "metadata": {},
   "outputs": [
    {
     "name": "stdout",
     "output_type": "stream",
     "text": [
      "-8531133228645334908\n",
      "<class 'int'>\n"
     ]
    }
   ],
   "source": [
    "hash_value = hash_nested_dict(nested_dict)\n",
    "print(hash_value)  # 输出一个唯一的哈希值\n",
    "print(type(hash_value))"
   ]
  },
  {
   "cell_type": "code",
   "execution_count": 7,
   "metadata": {},
   "outputs": [
    {
     "name": "stdout",
     "output_type": "stream",
     "text": [
      "2644444200094709263\n",
      "<class 'int'>\n"
     ]
    }
   ],
   "source": [
    "nested_dict[\"new\"]= [\"1\"]\n",
    "hash_value = hash_nested_dict(nested_dict)\n",
    "print(hash_value)  # 输出一个唯一的哈希值\n",
    "print(type(hash_value))"
   ]
  }
 ],
 "metadata": {
  "kernelspec": {
   "display_name": "openo1",
   "language": "python",
   "name": "python3"
  },
  "language_info": {
   "codemirror_mode": {
    "name": "ipython",
    "version": 3
   },
   "file_extension": ".py",
   "mimetype": "text/x-python",
   "name": "python",
   "nbconvert_exporter": "python",
   "pygments_lexer": "ipython3",
   "version": "3.12.7"
  }
 },
 "nbformat": 4,
 "nbformat_minor": 2
}
